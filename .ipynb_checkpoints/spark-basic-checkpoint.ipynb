{
 "cells": [
  {
   "cell_type": "code",
   "execution_count": 5,
   "id": "96f73b21-1692-44b9-bded-559aa2a4f465",
   "metadata": {},
   "outputs": [],
   "source": [
    "from pyspark.sql import SparkSession\n",
    "from pyspark.sql.types import StructType, StructField, IntegerType, StringType\n",
    "import pyspark.sql.functions as func"
   ]
  },
  {
   "cell_type": "code",
   "execution_count": 6,
   "id": "035a1434-3487-4461-9681-f8491f022c3c",
   "metadata": {},
   "outputs": [],
   "source": [
    "spark = SparkSession.builder.appName('sparkLearning').getOrCreate()"
   ]
  },
  {
   "cell_type": "code",
   "execution_count": 10,
   "id": "8af207e5-dc7e-4f9b-874e-57778cb834d0",
   "metadata": {},
   "outputs": [],
   "source": [
    "mysshema = StructType([\n",
    "    StructField('UserId', IntegerType(), True),\n",
    "    StructField('Name', StringType(), True),\n",
    "    StructField('age', IntegerType(), True),\n",
    "    StructField('friends', IntegerType(), True),\n",
    "])"
   ]
  },
  {
   "cell_type": "code",
   "execution_count": 11,
   "id": "ec8ebac9-3449-4d04-b3f2-b5bf1551ef09",
   "metadata": {},
   "outputs": [],
   "source": [
    "people_df = spark.read.format('CSV').schema(mysshema).option('path', 'fakefriends.csv').load()"
   ]
  },
  {
   "cell_type": "code",
   "execution_count": 42,
   "id": "04533fab-59ce-4e45-ae60-e89209a280f9",
   "metadata": {},
   "outputs": [],
   "source": [
    "output = people_df.select(people_df.UserId, people_df.Name, people_df.age, people_df.friends)\\\n",
    ".where((people_df.age < 30) & (people_df.friends > 300)).withColumn('insert_ts', func.current_timestamp()).orderBy(people_df.UserId)"
   ]
  },
  {
   "cell_type": "code",
   "execution_count": 43,
   "id": "4761eca7-8e27-407e-aadd-5fbef4b1f4e7",
   "metadata": {},
   "outputs": [
    {
     "data": {
      "text/plain": [
       "[Row(UserId=16, Name='Weyoun', age=22, friends=323, insert_ts=datetime.datetime(2025, 1, 7, 16, 56, 3, 264000)),\n",
       " Row(UserId=25, Name='Ben', age=21, friends=445, insert_ts=datetime.datetime(2025, 1, 7, 16, 56, 3, 264000)),\n",
       " Row(UserId=35, Name='Beverly', age=27, friends=305, insert_ts=datetime.datetime(2025, 1, 7, 16, 56, 3, 264000)),\n",
       " Row(UserId=66, Name='Geordi', age=21, friends=477, insert_ts=datetime.datetime(2025, 1, 7, 16, 56, 3, 264000)),\n",
       " Row(UserId=73, Name='Brunt', age=20, friends=384, insert_ts=datetime.datetime(2025, 1, 7, 16, 56, 3, 264000)),\n",
       " Row(UserId=84, Name='Ben', age=28, friends=311, insert_ts=datetime.datetime(2025, 1, 7, 16, 56, 3, 264000))]"
      ]
     },
     "execution_count": 43,
     "metadata": {},
     "output_type": "execute_result"
    }
   ],
   "source": [
    "output.head(6)"
   ]
  },
  {
   "cell_type": "code",
   "execution_count": 44,
   "id": "93f0288d-6c26-49a5-9511-ccd577c49232",
   "metadata": {},
   "outputs": [],
   "source": [
    "output.createOrReplaceTempView('peoples')"
   ]
  },
  {
   "cell_type": "code",
   "execution_count": 45,
   "id": "47b1678f-c08d-4208-a7d0-5faf9d82d6a9",
   "metadata": {},
   "outputs": [
    {
     "name": "stdout",
     "output_type": "stream",
     "text": [
      "+------+-------+---+-------+--------------------+\n",
      "|UserId|   Name|age|friends|           insert_ts|\n",
      "+------+-------+---+-------+--------------------+\n",
      "|    16| Weyoun| 22|    323|2025-01-07 16:56:...|\n",
      "|    25|    Ben| 21|    445|2025-01-07 16:56:...|\n",
      "|    35|Beverly| 27|    305|2025-01-07 16:56:...|\n",
      "|    66| Geordi| 21|    477|2025-01-07 16:56:...|\n",
      "|    73|  Brunt| 20|    384|2025-01-07 16:56:...|\n",
      "|    84|    Ben| 28|    311|2025-01-07 16:56:...|\n",
      "|    89|   Worf| 24|    492|2025-01-07 16:56:...|\n",
      "|   106|Beverly| 18|    499|2025-01-07 16:56:...|\n",
      "|   115|  Dukat| 18|    397|2025-01-07 16:56:...|\n",
      "|   118|    Ben| 28|    304|2025-01-07 16:56:...|\n",
      "|   119|   Worf| 29|    344|2025-01-07 16:56:...|\n",
      "|   136|   Will| 19|    335|2025-01-07 16:56:...|\n",
      "|   178| Kasidy| 26|    381|2025-01-07 16:56:...|\n",
      "|   200| Kasidy| 21|    472|2025-01-07 16:56:...|\n",
      "|   206|   Will| 21|    491|2025-01-07 16:56:...|\n",
      "|   213|   Worf| 28|    312|2025-01-07 16:56:...|\n",
      "|   219|Lwaxana| 26|    345|2025-01-07 16:56:...|\n",
      "|   238| Deanna| 25|    305|2025-01-07 16:56:...|\n",
      "|   244|  Dukat| 21|    471|2025-01-07 16:56:...|\n",
      "|   265| Gowron| 27|    471|2025-01-07 16:56:...|\n",
      "+------+-------+---+-------+--------------------+\n",
      "only showing top 20 rows\n",
      "\n"
     ]
    }
   ],
   "source": [
    "spark.sql('select * from peoples').show()"
   ]
  },
  {
   "cell_type": "code",
   "execution_count": null,
   "id": "eb153720-8688-4abf-8537-0df1a9c0c1d3",
   "metadata": {},
   "outputs": [],
   "source": [
    "class Solution:\n",
    "    def maxProfit(self, prices: List[int]) -> int:\n",
    "        buy = 0\n",
    "        profit = []\n",
    "        buy_day = 0\n",
    "        for i in range(0, len(prices)-1):\n",
    "            if prices[i] < prices[i+1]:\n",
    "                buy = i\n",
    "                buy_day = i + 1\n",
    "        print()  \n",
    "        for i in range(buy_day, len(prices)-1):\n",
    "            if prices[i] > buy:\n",
    "                profit.append(prices[i] - buy)\n",
    "\n",
    "        return max(profit)"
   ]
  }
 ],
 "metadata": {
  "kernelspec": {
   "display_name": "Python 3 (ipykernel)",
   "language": "python",
   "name": "python3"
  },
  "language_info": {
   "codemirror_mode": {
    "name": "ipython",
    "version": 3
   },
   "file_extension": ".py",
   "mimetype": "text/x-python",
   "name": "python",
   "nbconvert_exporter": "python",
   "pygments_lexer": "ipython3",
   "version": "3.11.7"
  }
 },
 "nbformat": 4,
 "nbformat_minor": 5
}
